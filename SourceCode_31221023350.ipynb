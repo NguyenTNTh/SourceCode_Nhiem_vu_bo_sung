{
 "cells": [
  {
   "cell_type": "code",
   "execution_count": 0,
   "metadata": {
    "application/vnd.databricks.v1+cell": {
     "cellMetadata": {
      "byteLimit": 2048000,
      "rowLimit": 10000
     },
     "inputWidgets": {},
     "nuid": "523ba75d-4ea8-4951-81bb-cff480b9a733",
     "showTitle": false,
     "tableResultSettingsMap": {},
     "title": ""
    }
   },
   "outputs": [],
   "source": [
    "# Thư viện\n",
    "from pyspark.sql import functions as F\n",
    "import numpy as np\n",
    "from sklearn.preprocessing import StandardScaler, OneHotEncoder\n",
    "from sklearn.compose import ColumnTransformer\n",
    "from sklearn.cluster import KMeans\n",
    "from sklearn.metrics import silhouette_score\n",
    "from sklearn.metrics import silhouette_samples\n",
    "import matplotlib.pyplot as plt\n",
    "import seaborn as sns"
   ]
  },
  {
   "cell_type": "code",
   "execution_count": 0,
   "metadata": {
    "application/vnd.databricks.v1+cell": {
     "cellMetadata": {
      "byteLimit": 2048000,
      "rowLimit": 10000
     },
     "inputWidgets": {},
     "nuid": "c6662209-0286-4b86-9039-7f8c182dacc5",
     "showTitle": false,
     "tableResultSettingsMap": {},
     "title": ""
    }
   },
   "outputs": [],
   "source": [
    "# Thông số ban đầu\n",
    "table_input  = \"vaccine_order_sampled\"    \n",
    "table_region = \"dim_shop\"                       \n",
    "table_output = \"vaccine_cluster_result\"   \n",
    "\n",
    "random_state = 42                         "
   ]
  },
  {
   "cell_type": "code",
   "execution_count": 0,
   "metadata": {
    "application/vnd.databricks.v1+cell": {
     "cellMetadata": {
      "byteLimit": 2048000,
      "rowLimit": 10000
     },
     "inputWidgets": {},
     "nuid": "817d9371-1917-499a-9e5a-f05aa602e797",
     "showTitle": false,
     "tableResultSettingsMap": {
      "0": {
       "dataGridStateBlob": "{\"version\":1,\"tableState\":{\"columnPinning\":{\"left\":[\"#row_number#\"],\"right\":[]},\"columnSizing\":{\"order_code\":100,\"shop_code\":99,\"line_item_name\":130,\"line_item_quantity\":138,\"month\":90,\"sku\":90,\"line_item_discount_promotion\":202,\"line_item_amount_after_discount\":218},\"columnVisibility\":{}},\"settings\":{\"columns\":{}},\"syncTimestamp\":1760418096099}",
       "filterBlob": null,
       "queryPlanFiltersBlob": null,
       "tableResultIndex": 0
      }
     },
     "title": ""
    }
   },
   "outputs": [],
   "source": [
    "# Đọc dữ liệu gốc\n",
    "df_orders = spark.table(table_input)\n",
    "df_region = spark.table(table_region)\n",
    "\n",
    "print(\"Dữ liệu đầu vào:\")\n",
    "display(df_orders.limit(5))\n",
    "print(\"Dữ liệu thông tin vùng:\")\n",
    "display(df_region.limit(5))"
   ]
  },
  {
   "cell_type": "code",
   "execution_count": 0,
   "metadata": {
    "application/vnd.databricks.v1+cell": {
     "cellMetadata": {
      "byteLimit": 2048000,
      "rowLimit": 10000
     },
     "inputWidgets": {},
     "nuid": "29087911-2d0e-4965-990b-f1d4afd7f112",
     "showTitle": false,
     "tableResultSettingsMap": {},
     "title": ""
    }
   },
   "outputs": [],
   "source": [
    "# Khám phá - Phân tích dữ liệu\n",
    "# Tổng số dòng, số trung tâm, số tháng\n",
    "summary_stats = df_orders.select(\n",
    "    F.countDistinct(\"order_code\").alias(\"distinct_orders\"),\n",
    "    F.countDistinct(\"shop_code\").alias(\"distinct_shops\"),\n",
    "    F.countDistinct(\"month\").alias(\"distinct_months\")\n",
    ").collect()[0]\n",
    "\n",
    "print(f\"Tổng quan bộ dữ liệu:\")\n",
    "print(f\"- Số đơn hàng: {summary_stats['distinct_orders']:,}\")\n",
    "print(f\"- Số trung tâm tiêm: {summary_stats['distinct_shops']:,}\")\n",
    "print(f\"- Số tháng: {summary_stats['distinct_months']}\")\n",
    "\n",
    "# Thống kê giá trị bán hàng\n",
    "df_stats = df_orders.select(\n",
    "    F.mean(\"line_item_amount_after_discount\").alias(\"mean_amount\"),\n",
    "    F.percentile_approx(\"line_item_amount_after_discount\", 0.5).alias(\"median_amount\"),\n",
    "    F.max(\"line_item_amount_after_discount\").alias(\"max_amount\")\n",
    ")\n",
    "\n",
    "display(df_stats)\n",
    "\n",
    "# Phân bố số lượng vaccine theo tháng\n",
    "df_monthly = (\n",
    "    df_orders.groupBy(\"month\")\n",
    "    .agg(F.countDistinct(\"order_code\").alias(\"total_orders\"))\n",
    "    .orderBy(\"month\")\n",
    ")\n",
    "\n",
    "print(\"Số lượng đơn hàng theo tháng:\")\n",
    "display(df_monthly)"
   ]
  },
  {
   "cell_type": "code",
   "execution_count": 0,
   "metadata": {
    "application/vnd.databricks.v1+cell": {
     "cellMetadata": {
      "byteLimit": 2048000,
      "rowLimit": 10000
     },
     "inputWidgets": {},
     "nuid": "879b928d-ea29-42bf-96c8-0760cd171d73",
     "showTitle": false,
     "tableResultSettingsMap": {},
     "title": ""
    }
   },
   "outputs": [],
   "source": [
    "# Tiền xử lí dữ liệu\n",
    "\n",
    "# Tổng hợp dữ liệu theo cấp đơn hàng\n",
    "df_order_level = (\n",
    "    df_orders.groupBy(\"order_code\", \"shop_code\", \"month\")\n",
    "    .agg(\n",
    "        F.sum(\"line_item_quantity\").alias(\"num_items\"),\n",
    "        F.sum(\"line_item_amount_after_discount\").alias(\"total_amount\"),\n",
    "        F.countDistinct(\"sku\").alias(\"num_unique_products\"),\n",
    "        F.sum(F.when(F.col(\"line_item_discount_promotion\") > 0, 1).otherwise(0)).alias(\"promotion_flag\")\n",
    "    )\n",
    ")\n",
    "\n",
    "print(\"Dữ liệu sau khi tổng hợp theo đơn hàng:\")\n",
    "display(df_order_level.limit(5))"
   ]
  },
  {
   "cell_type": "code",
   "execution_count": 0,
   "metadata": {
    "application/vnd.databricks.v1+cell": {
     "cellMetadata": {
      "byteLimit": 2048000,
      "rowLimit": 10000
     },
     "inputWidgets": {},
     "nuid": "2d3d6da1-33d2-4f01-984d-bc53e2f8011f",
     "showTitle": false,
     "tableResultSettingsMap": {},
     "title": ""
    }
   },
   "outputs": [],
   "source": [
    "# Gắn thông tin vùng địa lí\n",
    "df_joined = df_order_level.join(\n",
    "    df_region.select(\"shop_code\", \"region_name\"),\n",
    "    on=\"shop_code\",\n",
    "    how=\"left\"\n",
    ")\n",
    "\n",
    "print(\"Dữ liệu sau khi thêm vùng địa lí:\")\n",
    "display(df_joined.limit(5))"
   ]
  },
  {
   "cell_type": "code",
   "execution_count": 0,
   "metadata": {
    "application/vnd.databricks.v1+cell": {
     "cellMetadata": {
      "byteLimit": 2048000,
      "rowLimit": 10000
     },
     "inputWidgets": {},
     "nuid": "6eaea1c9-bbf7-43d6-beba-379b2de67b43",
     "showTitle": false,
     "tableResultSettingsMap": {},
     "title": ""
    }
   },
   "outputs": [],
   "source": [
    "\n",
    "pdf = df_joined.toPandas()\n",
    "pdf = pdf.drop(columns=[\"shop_code\", \"order_code\"], errors=\"ignore\")\n",
    "pdf[\"total_amount_log\"] = np.log1p(pdf[\"total_amount\"])  \n",
    "\n",
    "# Danh sách các biến\n",
    "numeric_features = [\"num_items\", \"total_amount_log\", \"num_unique_products\", \"promotion_flag\"]\n",
    "categorical_features = [\"region_name\"]\n",
    "\n",
    "# Chuẩn hóa và mã hóa\n",
    "preprocessor = ColumnTransformer(transformers=[\n",
    "    (\"num\", StandardScaler(), numeric_features),\n",
    "    (\"cat\", OneHotEncoder(handle_unknown=\"ignore\"), categorical_features)\n",
    "])\n",
    "X_prepared = preprocessor.fit_transform(pdf)"
   ]
  },
  {
   "cell_type": "code",
   "execution_count": 0,
   "metadata": {
    "application/vnd.databricks.v1+cell": {
     "cellMetadata": {
      "byteLimit": 2048000,
      "rowLimit": 10000
     },
     "inputWidgets": {},
     "nuid": "917adff4-35c9-4620-98ac-70a891e9b1ba",
     "showTitle": false,
     "tableResultSettingsMap": {},
     "title": ""
    }
   },
   "outputs": [],
   "source": [
    "# Thiết lập biểu đồ phân phối của total_amount\n",
    "\n",
    "# Thiết lập style cho biểu đồ\n",
    "sns.set_style(\"whitegrid\")\n",
    "\n",
    "# Tạo một figure chứa hai biểu đồ con đặt cạnh nhau\n",
    "fig, axes = plt.subplots(1, 2, figsize=(16, 6))\n",
    "\n",
    "# Phân phối của total_amount gốc\n",
    "sns.histplot(pdf['total_amount'], kde=True, ax=axes[0], bins=50)\n",
    "axes[0].set_title('Phân phối của total_amount (Trước khi biến đổi)', fontsize=14)\n",
    "axes[0].set_xlabel('Giá trị đơn hàng')\n",
    "axes[0].set_ylabel('Tần suất')\n",
    "\n",
    "# Phân phối của total_amount sau khi biến đổi logarit\n",
    "sns.histplot(pdf['total_amount_log'], kde=True, ax=axes[1], color='seagreen')\n",
    "axes[1].set_title('Phân phối của total_amount (Sau khi biến đổi logarit)', fontsize=14)\n",
    "axes[1].set_xlabel('Log(1 + Giá trị đơn hàng)')\n",
    "axes[1].set_ylabel('Tần suất')"
   ]
  },
  {
   "cell_type": "code",
   "execution_count": 0,
   "metadata": {
    "application/vnd.databricks.v1+cell": {
     "cellMetadata": {
      "byteLimit": 2048000,
      "rowLimit": 10000
     },
     "inputWidgets": {},
     "nuid": "91020d3e-af83-40bc-8104-e1267c880e38",
     "showTitle": false,
     "tableResultSettingsMap": {},
     "title": ""
    }
   },
   "outputs": [],
   "source": [
    "# Xác định số lượng cụm tối ưu\n",
    "inertia = []\n",
    "K = range(2, 10)\n",
    "for k in K:\n",
    "    km = KMeans(n_clusters=k, random_state=random_state)\n",
    "    km.fit(X_prepared)\n",
    "    inertia.append(km.inertia_)\n",
    "\n",
    "plt.figure(figsize=(8,5))\n",
    "plt.plot(K, inertia, marker='o')\n",
    "plt.title(\"Elbow Method - Xác định số cụm tối ưu\")\n",
    "plt.xlabel(\"Số cụm (K)\")\n",
    "plt.ylabel(\"Inertia (Tổng khoảng cách nội cụm)\")\n",
    "plt.grid(True)\n",
    "plt.show()"
   ]
  },
  {
   "cell_type": "code",
   "execution_count": 0,
   "metadata": {
    "application/vnd.databricks.v1+cell": {
     "cellMetadata": {
      "byteLimit": 2048000,
      "rowLimit": 10000
     },
     "inputWidgets": {},
     "nuid": "68ea792c-1064-43be-a654-37b1b1d0555b",
     "showTitle": false,
     "tableResultSettingsMap": {},
     "title": ""
    }
   },
   "outputs": [],
   "source": [
    "# Phân cụm bằng K-Means\n",
    "optimal_k = 6  \n",
    "kmeans = KMeans(n_clusters=optimal_k, random_state=random_state)\n",
    "kmeans.fit(X_prepared)\n",
    "pdf[\"cluster\"] = kmeans.labels_\n",
    "\n",
    "print(\"Đã phân cụm xong. Số cụm:\", optimal_k)\n",
    "pdf.head()"
   ]
  },
  {
   "cell_type": "code",
   "execution_count": 0,
   "metadata": {
    "application/vnd.databricks.v1+cell": {
     "cellMetadata": {
      "byteLimit": 2048000,
      "rowLimit": 10000
     },
     "inputWidgets": {},
     "nuid": "2da110d7-178d-4691-8f61-75ad9d12012a",
     "showTitle": false,
     "tableResultSettingsMap": {},
     "title": ""
    }
   },
   "outputs": [],
   "source": [
    "\n",
    "\n",
    "\n",
    "# Dữ liệu đầu vào đã được chuẩn hóa và mô hình K-Means đã huấn luyện trước đó\n",
    "labels = kmeans.labels_\n",
    "\n",
    "# Tính chỉ số đánh giá\n",
    "sil_score = silhouette_score(X_prepared, labels)\n",
    "\n",
    "# Hiển thị kết quả đánh giá\n",
    "print(\"=== ĐÁNH GIÁ MÔ HÌNH PHÂN CỤM K-MEANS ===\")\n",
    "print(f\"Số cụm (K): {optimal_k}\")\n",
    "print(f\"Silhouette Score: {sil_score:.4f}\")\n",
    "\n",
    "# So sánh Silhouette theo từng cụm\n",
    "sample_silhouette_values = silhouette_samples(X_prepared, labels)\n",
    "y_lower = 10\n",
    "plt.figure(figsize=(8, 6))\n",
    "for i in range(optimal_k):\n",
    "    ith_cluster_silhouette_values = sample_silhouette_values[labels == i]\n",
    "    ith_cluster_silhouette_values.sort()\n",
    "    size_cluster_i = ith_cluster_silhouette_values.shape[0]\n",
    "    y_upper = y_lower + size_cluster_i\n",
    "    plt.fill_betweenx(np.arange(y_lower, y_upper),\n",
    "                      0, ith_cluster_silhouette_values)\n",
    "    plt.text(-0.05, y_lower + 0.5 * size_cluster_i, str(i))\n",
    "    y_lower = y_upper + 10  # khoảng cách giữa các cụm\n",
    "\n",
    "plt.title(\"Biểu đồ Silhouette cho từng cụm\")\n",
    "plt.xlabel(\"Giá trị hệ số Silhouette\")\n",
    "plt.ylabel(\"Các cụm\")\n",
    "plt.axvline(x=sil_score, color=\"red\", linestyle=\"--\")\n",
    "plt.show()\n"
   ]
  },
  {
   "cell_type": "code",
   "execution_count": 0,
   "metadata": {
    "application/vnd.databricks.v1+cell": {
     "cellMetadata": {
      "byteLimit": 2048000,
      "rowLimit": 10000
     },
     "inputWidgets": {},
     "nuid": "75537d84-fc5d-4510-ac75-111a12250ec5",
     "showTitle": false,
     "tableResultSettingsMap": {},
     "title": ""
    }
   },
   "outputs": [],
   "source": [
    "# Phân tích kết quả phân cụm\n",
    "\n",
    "# Tìm đặc trưng trung bình của từng cụm\n",
    "cluster_summary = (\n",
    "    pdf.groupby(\"cluster\")[[\"num_items\", \"total_amount\", \"num_unique_products\", \"promotion_flag\"]]\n",
    "    .mean()\n",
    "    .round(2)\n",
    "    .reset_index()\n",
    ")\n",
    "\n",
    "print(\"Đặc trưng trung bình của từng cụm:\")\n",
    "display(cluster_summary)"
   ]
  },
  {
   "cell_type": "code",
   "execution_count": 0,
   "metadata": {
    "application/vnd.databricks.v1+cell": {
     "cellMetadata": {
      "byteLimit": 2048000,
      "rowLimit": 10000
     },
     "inputWidgets": {},
     "nuid": "e3f1994f-a53b-493e-ac75-4edee407b547",
     "showTitle": false,
     "tableResultSettingsMap": {},
     "title": ""
    }
   },
   "outputs": [],
   "source": [
    "# Phân tích phân bố cụm theo khu vực\n",
    "\n",
    "# Thống kê số lượng cửa hàng thuộc từng cụm trong mỗi khu vực\n",
    "cluster_summary = (\n",
    "    pdf.groupby([\"region_name\", \"cluster\"])\n",
    "       .size()\n",
    "       .reset_index(name=\"count\")\n",
    "       .sort_values([\"region_name\", \"cluster\"])\n",
    ")\n",
    "\n",
    "print(\"Phân bố cụm theo khu vực:\")\n",
    "display(cluster_summary)\n",
    "\n",
    "# Vẽ biểu đồ trực quan hóa phân bố\n",
    "plt.figure(figsize=(10,6))\n",
    "sns.barplot(data=cluster_summary, x=\"region_name\", y=\"count\", hue=\"cluster\")\n",
    "plt.title(\"Phân bố cụm theo khu vực\")\n",
    "plt.xlabel(\"Khu vực\")\n",
    "plt.ylabel(\"Số lượng cửa hàng / đơn hàng\")\n",
    "plt.legend(title=\"Cụm\")\n",
    "plt.xticks(rotation=45)\n",
    "plt.tight_layout()\n",
    "plt.show()"
   ]
  }
 ],
 "metadata": {
  "application/vnd.databricks.v1+notebook": {
   "computePreferences": null,
   "dashboards": [],
   "environmentMetadata": {
    "base_environment": "",
    "environment_version": "3"
   },
   "inputWidgetPreferences": null,
   "language": "python",
   "notebookMetadata": {
    "pythonIndentUnit": 4
   },
   "notebookName": "Code_Grad_Report",
   "widgets": {}
  },
  "language_info": {
   "name": "python"
  }
 },
 "nbformat": 4,
 "nbformat_minor": 0
}
